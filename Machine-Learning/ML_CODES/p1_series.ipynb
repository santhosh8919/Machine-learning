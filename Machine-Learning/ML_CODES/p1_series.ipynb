{
 "cells": [
  {
   "cell_type": "code",
   "execution_count": null,
   "metadata": {},
   "outputs": [
    {
     "name": "stdout",
     "output_type": "stream",
     "text": [
      "0           1\n",
      "1           2\n",
      "2           3\n",
      "3           4\n",
      "4           5\n",
      "5    Ramsingh\n",
      "dtype: object\n"
     ]
    }
   ],
   "source": [
    " #creating Series\n",
    " import pandas as pd\n",
    " s=pd.Series([1,2,3,4,5])\n",
    " print(s)\n"
   ]
  },
  {
   "cell_type": "code",
   "execution_count": 3,
   "metadata": {},
   "outputs": [
    {
     "name": "stdout",
     "output_type": "stream",
     "text": [
      "[0 1 2 3 4 5]\n"
     ]
    }
   ],
   "source": [
    "print(s.index.values) "
   ]
  },
  {
   "cell_type": "code",
   "execution_count": 4,
   "metadata": {},
   "outputs": [
    {
     "name": "stdout",
     "output_type": "stream",
     "text": [
      "[1 2 3 4 5 'Ramsingh']\n"
     ]
    }
   ],
   "source": [
    "print(s.values)"
   ]
  },
  {
   "cell_type": "markdown",
   "metadata": {},
   "source": [
    "print(s.len())"
   ]
  },
  {
   "cell_type": "code",
   "execution_count": 6,
   "metadata": {},
   "outputs": [
    {
     "name": "stdout",
     "output_type": "stream",
     "text": [
      "6\n"
     ]
    }
   ],
   "source": [
    "\n",
    "print(len(s))"
   ]
  },
  {
   "cell_type": "code",
   "execution_count": null,
   "metadata": {},
   "outputs": [],
   "source": [
    "#common methods of Seriex"
   ]
  },
  {
   "cell_type": "code",
   "execution_count": 10,
   "metadata": {},
   "outputs": [
    {
     "name": "stdout",
     "output_type": "stream",
     "text": [
      "count     6\n",
      "unique    6\n",
      "top       1\n",
      "freq      1\n",
      "dtype: int64\n"
     ]
    }
   ],
   "source": [
    "print(s.describe())"
   ]
  },
  {
   "cell_type": "code",
   "execution_count": 11,
   "metadata": {},
   "outputs": [
    {
     "name": "stdout",
     "output_type": "stream",
     "text": [
      "count    5.000000\n",
      "mean     3.000000\n",
      "std      1.581139\n",
      "min      1.000000\n",
      "25%      2.000000\n",
      "50%      3.000000\n",
      "75%      4.000000\n",
      "max      5.000000\n",
      "dtype: float64\n"
     ]
    }
   ],
   "source": [
    "s=pd.Series([1,2,3,4,5])\n",
    "print(s.describe())"
   ]
  },
  {
   "cell_type": "code",
   "execution_count": 12,
   "metadata": {},
   "outputs": [
    {
     "name": "stdout",
     "output_type": "stream",
     "text": [
      "3.0\n"
     ]
    }
   ],
   "source": [
    "print(s.mean())"
   ]
  },
  {
   "cell_type": "code",
   "execution_count": 14,
   "metadata": {},
   "outputs": [
    {
     "name": "stdout",
     "output_type": "stream",
     "text": [
      "count    5.000000\n",
      "mean     3.000000\n",
      "std      1.581139\n",
      "min      1.000000\n",
      "50%      3.000000\n",
      "70%      3.800000\n",
      "80%      4.200000\n",
      "max      5.000000\n",
      "dtype: float64\n"
     ]
    }
   ],
   "source": [
    "print(s.describe(percentiles=[0.7,0.8]))"
   ]
  },
  {
   "cell_type": "code",
   "execution_count": 15,
   "metadata": {},
   "outputs": [
    {
     "data": {
      "text/plain": [
       "count    5.000000\n",
       "mean     3.000000\n",
       "std      1.581139\n",
       "min      1.000000\n",
       "25%      2.000000\n",
       "50%      3.000000\n",
       "75%      4.000000\n",
       "max      5.000000\n",
       "dtype: float64"
      ]
     },
     "execution_count": 15,
     "metadata": {},
     "output_type": "execute_result"
    }
   ],
   "source": [
    "s.describe(include=[int])"
   ]
  },
  {
   "cell_type": "code",
   "execution_count": 16,
   "metadata": {},
   "outputs": [
    {
     "name": "stdout",
     "output_type": "stream",
     "text": [
      "count    5.000000\n",
      "mean     3.000000\n",
      "std      1.581139\n",
      "min      1.000000\n",
      "25%      2.000000\n",
      "50%      3.000000\n",
      "75%      4.000000\n",
      "max      5.000000\n",
      "dtype: float64\n"
     ]
    }
   ],
   "source": [
    "print(s.describe().T)"
   ]
  },
  {
   "cell_type": "code",
   "execution_count": 17,
   "metadata": {},
   "outputs": [
    {
     "name": "stdout",
     "output_type": "stream",
     "text": [
      "count    5.000000\n",
      "mean     3.000000\n",
      "std      1.581139\n",
      "min      1.000000\n",
      "25%      2.000000\n",
      "50%      3.000000\n",
      "75%      4.000000\n",
      "max      5.000000\n",
      "dtype: float64\n"
     ]
    }
   ],
   "source": [
    "print(s.describe())"
   ]
  },
  {
   "cell_type": "code",
   "execution_count": 18,
   "metadata": {},
   "outputs": [
    {
     "name": "stdout",
     "output_type": "stream",
     "text": [
      "{'rice': 50, 'onion': 30, 'tomato': 10, 'mango': 100}\n"
     ]
    }
   ],
   "source": [
    "d={'rice':50,'onion':30,'tomato':10,'mango':100}\n",
    "print(d)"
   ]
  },
  {
   "cell_type": "code",
   "execution_count": 20,
   "metadata": {},
   "outputs": [
    {
     "name": "stdout",
     "output_type": "stream",
     "text": [
      "rice       50\n",
      "onion      30\n",
      "tomato     10\n",
      "mango     100\n",
      "dtype: int64\n"
     ]
    }
   ],
   "source": [
    "ser=pd.Series(d)\n",
    "print(ser)"
   ]
  },
  {
   "cell_type": "code",
   "execution_count": 21,
   "metadata": {},
   "outputs": [
    {
     "name": "stdout",
     "output_type": "stream",
     "text": [
      "x   NaN\n",
      "y   NaN\n",
      "z   NaN\n",
      "a   NaN\n",
      "b   NaN\n",
      "dtype: float64\n"
     ]
    }
   ],
   "source": [
    "print(pd.Series(data=d,index=['x','y','z','a','b']))"
   ]
  },
  {
   "cell_type": "code",
   "execution_count": 22,
   "metadata": {},
   "outputs": [
    {
     "data": {
      "text/plain": [
       "np.int64(3)"
      ]
     },
     "execution_count": 22,
     "metadata": {},
     "output_type": "execute_result"
    }
   ],
   "source": [
    " s[2]"
   ]
  },
  {
   "cell_type": "code",
   "execution_count": 24,
   "metadata": {},
   "outputs": [
    {
     "data": {
      "text/plain": [
       "8"
      ]
     },
     "execution_count": 24,
     "metadata": {},
     "output_type": "execute_result"
    }
   ],
   "source": [
    "ser=[5,6,7,8,9]\n",
    "ser[3]"
   ]
  },
  {
   "cell_type": "code",
   "execution_count": 31,
   "metadata": {},
   "outputs": [
    {
     "name": "stdout",
     "output_type": "stream",
     "text": [
      "a    5\n",
      "b    6\n",
      "c    7\n",
      "d    8\n",
      "e    9\n",
      "dtype: int64\n"
     ]
    }
   ],
   "source": [
    "my_ind=['a','b','c','d','e']\n",
    "ss=pd.Series(ser,my_ind)\n",
    "print(ss)\n"
   ]
  },
  {
   "cell_type": "code",
   "execution_count": 2,
   "metadata": {},
   "outputs": [
    {
     "name": "stdout",
     "output_type": "stream",
     "text": [
      "     total_bill   tip     sex smoker   day    time  size\n",
      "0         16.99  1.01  Female     No   Sun  Dinner     2\n",
      "1         10.34  1.66    Male     No   Sun  Dinner     3\n",
      "2         21.01  3.50    Male     No   Sun  Dinner     3\n",
      "3         23.68  3.31    Male     No   Sun  Dinner     2\n",
      "4         24.59  3.61  Female     No   Sun  Dinner     4\n",
      "..          ...   ...     ...    ...   ...     ...   ...\n",
      "239       29.03  5.92    Male     No   Sat  Dinner     3\n",
      "240       27.18  2.00  Female    Yes   Sat  Dinner     2\n",
      "241       22.67  2.00    Male    Yes   Sat  Dinner     2\n",
      "242       17.82  1.75    Male     No   Sat  Dinner     2\n",
      "243       18.78  3.00  Female     No  Thur  Dinner     2\n",
      "\n",
      "[244 rows x 7 columns]\n"
     ]
    }
   ],
   "source": [
    "import pandas as pd\n",
    "df=pd.read_csv(\"tips.csv\")\n",
    "print(df)"
   ]
  },
  {
   "cell_type": "code",
   "execution_count": 18,
   "metadata": {},
   "outputs": [
    {
     "name": "stdout",
     "output_type": "stream",
     "text": [
      "type[['total_bill']]\n"
     ]
    }
   ],
   "source": [
    "print(type[df])\n"
   ]
  },
  {
   "cell_type": "code",
   "execution_count": 37,
   "metadata": {},
   "outputs": [
    {
     "name": "stdout",
     "output_type": "stream",
     "text": [
      "1.01\n",
      "1.66\n",
      "3.5\n",
      "3.31\n",
      "3.61\n",
      "4.71\n",
      "2.0\n",
      "3.12\n",
      "1.96\n",
      "3.23\n",
      "1.71\n",
      "5.0\n",
      "1.57\n",
      "3.0\n",
      "3.02\n",
      "3.92\n",
      "1.67\n",
      "3.71\n",
      "3.5\n",
      "3.35\n",
      "4.08\n",
      "2.75\n",
      "2.23\n",
      "7.58\n",
      "3.18\n",
      "2.34\n",
      "2.0\n",
      "2.0\n",
      "4.3\n",
      "3.0\n",
      "1.45\n",
      "2.5\n",
      "3.0\n",
      "2.45\n",
      "3.27\n",
      "3.6\n",
      "2.0\n",
      "3.07\n",
      "2.31\n",
      "5.0\n",
      "2.24\n",
      "2.54\n",
      "3.06\n",
      "1.32\n",
      "5.6\n",
      "3.0\n",
      "5.0\n",
      "6.0\n",
      "2.05\n",
      "3.0\n",
      "2.5\n",
      "2.6\n",
      "5.2\n",
      "1.56\n",
      "4.34\n",
      "3.51\n",
      "3.0\n",
      "1.5\n",
      "1.76\n",
      "6.73\n",
      "3.21\n",
      "2.0\n",
      "1.98\n",
      "3.76\n",
      "2.64\n",
      "3.15\n",
      "2.47\n",
      "1.0\n",
      "2.01\n",
      "2.09\n",
      "1.97\n",
      "3.0\n",
      "3.14\n",
      "5.0\n",
      "2.2\n",
      "1.25\n",
      "3.08\n",
      "4.0\n",
      "3.0\n",
      "2.71\n",
      "3.0\n",
      "3.4\n",
      "1.83\n",
      "5.0\n",
      "2.03\n",
      "5.17\n",
      "2.0\n",
      "4.0\n",
      "5.85\n",
      "3.0\n",
      "3.0\n",
      "3.5\n",
      "1.0\n",
      "4.3\n",
      "3.25\n",
      "4.73\n",
      "4.0\n",
      "1.5\n",
      "3.0\n",
      "1.5\n",
      "2.5\n",
      "3.0\n",
      "2.5\n",
      "3.48\n",
      "4.08\n",
      "1.64\n",
      "4.06\n",
      "4.29\n",
      "3.76\n",
      "4.0\n",
      "3.0\n",
      "1.0\n",
      "4.0\n",
      "2.55\n",
      "4.0\n",
      "3.5\n",
      "5.07\n",
      "1.5\n",
      "1.8\n",
      "2.92\n",
      "2.31\n",
      "1.68\n",
      "2.5\n",
      "2.0\n",
      "2.52\n",
      "4.2\n",
      "1.48\n",
      "2.0\n",
      "2.0\n",
      "2.18\n",
      "1.5\n",
      "2.83\n",
      "1.5\n",
      "2.0\n",
      "3.25\n",
      "1.25\n",
      "2.0\n",
      "2.0\n",
      "2.0\n",
      "2.75\n",
      "3.5\n",
      "6.7\n",
      "5.0\n",
      "5.0\n",
      "2.3\n",
      "1.5\n",
      "1.36\n",
      "1.63\n",
      "1.73\n",
      "2.0\n",
      "2.5\n",
      "2.0\n",
      "2.74\n",
      "2.0\n",
      "2.0\n",
      "5.14\n",
      "5.0\n",
      "3.75\n",
      "2.61\n",
      "2.0\n",
      "3.5\n",
      "2.5\n",
      "2.0\n",
      "2.0\n",
      "3.0\n",
      "3.48\n",
      "2.24\n",
      "4.5\n",
      "1.61\n",
      "2.0\n",
      "10.0\n",
      "3.16\n",
      "5.15\n",
      "3.18\n",
      "4.0\n",
      "3.11\n",
      "2.0\n",
      "2.0\n",
      "4.0\n",
      "3.55\n",
      "3.68\n",
      "5.65\n",
      "3.5\n",
      "6.5\n",
      "3.0\n",
      "5.0\n",
      "3.5\n",
      "2.0\n",
      "3.5\n",
      "4.0\n",
      "1.5\n",
      "4.19\n",
      "2.56\n",
      "2.02\n",
      "4.0\n",
      "1.44\n",
      "2.0\n",
      "5.0\n",
      "2.0\n",
      "2.0\n",
      "4.0\n",
      "2.01\n",
      "2.0\n",
      "2.5\n",
      "4.0\n",
      "3.23\n",
      "3.41\n",
      "3.0\n",
      "2.03\n",
      "2.23\n",
      "2.0\n",
      "5.16\n",
      "9.0\n",
      "2.5\n",
      "6.5\n",
      "1.1\n",
      "3.0\n",
      "1.5\n",
      "1.44\n",
      "3.09\n",
      "2.2\n",
      "3.48\n",
      "1.92\n",
      "3.0\n",
      "1.58\n",
      "2.5\n",
      "2.0\n",
      "3.0\n",
      "2.72\n",
      "2.88\n",
      "2.0\n",
      "3.0\n",
      "3.39\n",
      "1.47\n",
      "3.0\n",
      "1.25\n",
      "1.0\n",
      "1.17\n",
      "4.67\n",
      "5.92\n",
      "2.0\n",
      "2.0\n",
      "1.75\n",
      "3.0\n"
     ]
    }
   ],
   "source": [
    "import csv\n",
    "with open('tips.csv','r') as file:\n",
    "    read=csv.DictReader(file)\n",
    "    for roww in read:\n",
    "        print(roww['tip'])"
   ]
  },
  {
   "cell_type": "code",
   "execution_count": null,
   "metadata": {},
   "outputs": [],
   "source": []
  }
 ],
 "metadata": {
  "kernelspec": {
   "display_name": "Python 3",
   "language": "python",
   "name": "python3"
  },
  "language_info": {
   "codemirror_mode": {
    "name": "ipython",
    "version": 3
   },
   "file_extension": ".py",
   "mimetype": "text/x-python",
   "name": "python",
   "nbconvert_exporter": "python",
   "pygments_lexer": "ipython3",
   "version": "3.11.9"
  }
 },
 "nbformat": 4,
 "nbformat_minor": 2
}
