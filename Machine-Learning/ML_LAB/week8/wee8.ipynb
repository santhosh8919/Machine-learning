{
 "cells": [
  {
   "cell_type": "markdown",
   "metadata": {},
   "source": [
    "#week 8"
   ]
  },
  {
   "cell_type": "code",
   "execution_count": null,
   "metadata": {},
   "outputs": [],
   "source": [
    "import pandas as pd"
   ]
  },
  {
   "cell_type": "code",
   "execution_count": 3,
   "metadata": {},
   "outputs": [],
   "source": [
    "df=pd.read_csv(\"newsgroups_test.csv\")\n",
    "df1=pd.read_csv(\"newsgroups_train.csv\")\n"
   ]
  },
  {
   "cell_type": "code",
   "execution_count": 4,
   "metadata": {},
   "outputs": [
    {
     "data": {
      "text/plain": [
       "'From: mccall@mksol.dseg.ti.com (fred j mccall 575-3539)\\nSubject: Re: Satellite around Pluto Mission? \\nOrganization: Texas Instruments Inc\\nLines: 24\\n\\nIn <1993Apr30.004311.1@aurora.alaska.edu> nsmca@aurora.alaska.edu writes:\\n\\n>Being wierd again, so be warned:\\n\\n>Is there a plan to put a satellite around each planet in the solar system to\\n>keep watch? I help it better to ask questions before I spout an opinion.\\n\\n>How about a mission (unmanned) to Pluto to stay in orbit and record things\\n>around and near and on Pluto.. I know it is a strange idea, but why not??\\n>It could do some scanning of not only Pluto, but also of the solar system,\\n>objects near and aaroundpluto, as well as SETI and looking at the galaxy\\n>without having much of the solar system to worry about..\\n\\nDoing this in anything like reasonable time would require more\\npropulsion capability than we can manage.  You would have to boost to\\nPluto and then slow back down.  You could do something like a Hohman\\norbit, but I think that would take ridiculous amounts of time (my\\nRubber Bible is at home).\\n\\n-- \\n\"Insisting on perfect safety is for people who don\\'t have the balls to live\\n in the real world.\"   -- Mary Shafer, NASA Ames Dryden\\n------------------------------------------------------------------------------\\nFred.McCall@dseg.ti.com - I don\\'t speak for others and they don\\'t speak for me.\\n'"
      ]
     },
     "execution_count": 4,
     "metadata": {},
     "output_type": "execute_result"
    }
   ],
   "source": [
    "df.iloc[0,:].text"
   ]
  },
  {
   "cell_type": "code",
   "execution_count": 5,
   "metadata": {},
   "outputs": [
    {
     "data": {
      "text/plain": [
       "0       2\n",
       "1       1\n",
       "2       1\n",
       "3       1\n",
       "4       1\n",
       "       ..\n",
       "1097    1\n",
       "1098    0\n",
       "1099    0\n",
       "1100    1\n",
       "1101    2\n",
       "Name: target, Length: 1102, dtype: int64"
      ]
     },
     "execution_count": 5,
     "metadata": {},
     "output_type": "execute_result"
    }
   ],
   "source": [
    "#print all target lablels\n",
    "df.target"
   ]
  },
  {
   "cell_type": "code",
   "execution_count": null,
   "metadata": {},
   "outputs": [],
   "source": [
    "#count vectrozier convert data into numeric format\n",
    "from sklearn.datasets import fetch_20newsgroups\n",
    "from sklearn.feature_extraction.text import CountVectorizer\n",
    "\n",
    "newsgroup_train=fetch_20newsgroups(subset='train',remove=('header','footers','quotes'))\n",
    "count_vect=CountVectorizer(max_features=1500)\n",
    "vectors=count_vect.fit_transform('newsgroup_train.text')\n",
    "vectors=vectors.toarray()\n",
    "vectors"
   ]
  },
  {
   "cell_type": "markdown",
   "metadata": {},
   "source": []
  },
  {
   "cell_type": "code",
   "execution_count": null,
   "metadata": {},
   "outputs": [],
   "source": []
  }
 ],
 "metadata": {
  "kernelspec": {
   "display_name": "Python 3",
   "language": "python",
   "name": "python3"
  },
  "language_info": {
   "codemirror_mode": {
    "name": "ipython",
    "version": 3
   },
   "file_extension": ".py",
   "mimetype": "text/x-python",
   "name": "python",
   "nbconvert_exporter": "python",
   "pygments_lexer": "ipython3",
   "version": "3.12.8"
  }
 },
 "nbformat": 4,
 "nbformat_minor": 2
}
