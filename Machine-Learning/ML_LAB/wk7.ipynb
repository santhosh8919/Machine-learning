{
 "cells": [
  {
   "cell_type": "code",
   "execution_count": 9,
   "metadata": {},
   "outputs": [
    {
     "name": "stdout",
     "output_type": "stream",
     "text": [
      "confusion matrix is :\n",
      " [[107   0   0   0   0   1   3   0   0   0]\n",
      " [  0 123   0   0   0   0   0   0   0   0]\n",
      " [  4   1  80   1   0   0   1   6   1   0]\n",
      " [  0   2   2 101   0   2   1   1   0   2]\n",
      " [  1   4   0   0  94   0   0   0   0   6]\n",
      " [  0   2   0   5   0  86   0   0   1   3]\n",
      " [  1   0   0   0   0   1  93   0   0   0]\n",
      " [  0   7   1   1   1   0   0  98   0   3]\n",
      " [  1   1   2   6   0   6   1   0  75   2]\n",
      " [  1   1   0   3   0   1   2   4   1  96]]\n",
      "Classification Report:\n",
      "               precision    recall  f1-score   support\n",
      "\n",
      "           0       0.93      0.96      0.95       111\n",
      "           1       0.87      1.00      0.93       123\n",
      "           2       0.94      0.85      0.89        94\n",
      "           3       0.86      0.91      0.89       111\n",
      "           4       0.99      0.90      0.94       105\n",
      "           5       0.89      0.89      0.89        97\n",
      "           6       0.92      0.98      0.95        95\n",
      "           7       0.90      0.88      0.89       111\n",
      "           8       0.96      0.80      0.87        94\n",
      "           9       0.86      0.88      0.87       109\n",
      "\n",
      "    accuracy                           0.91      1050\n",
      "   macro avg       0.91      0.90      0.91      1050\n",
      "weighted avg       0.91      0.91      0.91      1050\n",
      "\n"
     ]
    }
   ],
   "source": [
    "import pandas as pd\n",
    "import matplotlib.pyplot as plt\n",
    "from sklearn.model_selection import train_test_split\n",
    "from sklearn.neighbors import KNeighborsClassifier\n",
    "from sklearn.tree import DecisionTreeClassifier\n",
    "from sklearn.naive_bayes import MultinomialNB\n",
    "from sklearn.metrics import confusion_matrix, classification_report, accuracy_score\n",
    "\n",
    "df=pd.read_csv(\"Week7_train.csv\")\n",
    "df.shape\n",
    "df_sample=df.sample(frac=0.1)\n",
    "X = df_sample.iloc[:,1:]\n",
    "Y = df_sample.iloc[:,0]\n",
    "X_train,X_test,Y_train,Y_test=train_test_split(X,Y,test_size=0.25)\n",
    "knn = KNeighborsClassifier(n_neighbors=5,metric='euclidean')\n",
    "knn.fit(X_train, Y_train)\n",
    "y_pred=knn.predict(X_test)\n",
    "cm=confusion_matrix(Y_test,y_pred)\n",
    "print(\"confusion matrix is :\\n\",cm)\n",
    "print(\"Classification Report:\\n\", classification_report(Y_test, y_pred))"
   ]
  },
  {
   "cell_type": "code",
   "execution_count": null,
   "metadata": {},
   "outputs": [],
   "source": []
  }
 ],
 "metadata": {
  "kernelspec": {
   "display_name": "base",
   "language": "python",
   "name": "python3"
  },
  "language_info": {
   "codemirror_mode": {
    "name": "ipython",
    "version": 3
   },
   "file_extension": ".py",
   "mimetype": "text/x-python",
   "name": "python",
   "nbconvert_exporter": "python",
   "pygments_lexer": "ipython3",
   "version": "3.12.7"
  }
 },
 "nbformat": 4,
 "nbformat_minor": 2
}
